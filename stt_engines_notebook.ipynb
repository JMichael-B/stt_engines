{
 "cells": [
  {
   "cell_type": "markdown",
   "metadata": {},
   "source": [
    "### SpeechRecognition"
   ]
  },
  {
   "cell_type": "code",
   "execution_count": 4,
   "metadata": {},
   "outputs": [],
   "source": [
    "import os\n",
    "from pydub import AudioSegment\n",
    "import speech_recognition as sr\n",
    "recognizer = sr.Recognizer()\n",
    "\n",
    "def speech_recog_stt(source_file: str):\n",
    "    file = sr.AudioFile(source_file)\n",
    "    with file as source:\n",
    "        audio = recognizer.record(source)\n",
    "    return recognizer.recognize_google(audio)\n"
   ]
  },
  {
   "cell_type": "markdown",
   "metadata": {},
   "source": [
    "converter"
   ]
  },
  {
   "cell_type": "code",
   "execution_count": 2,
   "metadata": {},
   "outputs": [],
   "source": [
    "import os\n",
    "\n",
    "def create_folder(path):\n",
    "    if not os.path.exists(path):\n",
    "        os.mkdir(path)\n",
    "\n",
    "def to_wav(source_file): \n",
    "\n",
    "    if os.path.isfile(source_file):\n",
    "        file_name, file_suff = os.path.splitext(source_file)\n",
    "        dir_name = os.path.dirname(source_file)\n",
    "        base_name = os.path.basename(source_file)[:-4]\n",
    "        destination = f'{dir_name}/to_wavs/'\n",
    "\n",
    "        if file_suff == '.mp3':\n",
    "            try:\n",
    "                sound = AudioSegment.from_file(source_file, \"mp3\")\n",
    "            except:\n",
    "                sound = AudioSegment.from_file(source_file, format=\"mp4\")\n",
    "\n",
    "            create_folder(destination)\n",
    "            sound.export(f\"{destination}/{base_name}.wav\", format=\"wav\")\n",
    "            print('sound file successfully converted wav')\n",
    "\n",
    "            return f'{destination}/{base_name}.wav'"
   ]
  },
  {
   "cell_type": "code",
   "execution_count": 60,
   "metadata": {},
   "outputs": [],
   "source": [
    "import moviepy.editor as ed\n",
    "\n",
    "path = \"C:\\\\Users\\\\mickl\\\\Videos\"\n",
    "destination = 'C:\\\\Users\\\\mickl\\\\OneDrive - Lexcode\\\\My Research\\\\STT Engines\\\\audios\\\\phonetic_lines'\n",
    "\n",
    "\n",
    "for file in os.listdir(path):\n",
    "\n",
    "    if os.path.isfile(file) and '.mp4' in file:\n",
    "        mp4_file = f'{path}\\{file}'\n",
    "        mp3_file = f'{destination}\\{file[:-4]}.mp3'\n",
    "\n",
    "        video = ed.VideoFileClip(mp4_file)\n",
    "        video.audio.write_audiofile(mp3_file)"
   ]
  },
  {
   "cell_type": "markdown",
   "metadata": {},
   "source": [
    "### Faster Whisper"
   ]
  },
  {
   "cell_type": "code",
   "execution_count": 5,
   "metadata": {},
   "outputs": [
    {
     "name": "stderr",
     "output_type": "stream",
     "text": [
      "c:\\Users\\mickl\\anaconda3\\envs\\stt_env\\lib\\site-packages\\tqdm\\auto.py:21: TqdmWarning: IProgress not found. Please update jupyter and ipywidgets. See https://ipywidgets.readthedocs.io/en/stable/user_install.html\n",
      "  from .autonotebook import tqdm as notebook_tqdm\n"
     ]
    }
   ],
   "source": [
    "from faster_whisper import WhisperModel\n",
    "\n",
    "def load_whisper_model(model_size : str):\n",
    "    return WhisperModel(model_size, device=\"cpu\", compute_type=\"int8\")\n",
    "\n",
    "def faster_whisper_stt(whisper_model, source_file: str):\n",
    "\n",
    "    try:\n",
    "        model = whisper_model\n",
    "        segments, info = model.transcribe(source_file, beam_size=5)\n",
    "\n",
    "        for segment in segments:\n",
    "            return segment.text.strip()\n",
    "\n",
    "    except Exception as e:\n",
    "        print(f\"Exception: {e}\")"
   ]
  },
  {
   "cell_type": "markdown",
   "metadata": {},
   "source": [
    "### Vosk"
   ]
  },
  {
   "cell_type": "code",
   "execution_count": 6,
   "metadata": {},
   "outputs": [],
   "source": [
    "from vosk import Model, KaldiRecognizer\n",
    "from pydub import AudioSegment\n",
    "import json\n",
    "\n",
    "def load_vosk_model(modelName: str):\n",
    "    return Model(model_name = modelName)\n",
    "\n",
    "def vosk_stt(vosk_model, source_file : str):\n",
    "    FRAME_RATE = 16000\n",
    "    CHANNELS = 1\n",
    "\n",
    "    try:\n",
    "        mp3 = AudioSegment.from_file(source_file, \"mp3\")\n",
    "    except:\n",
    "        mp3 = AudioSegment.from_file(source_file, format=\"mp4\")\n",
    "    mp3 = mp3.set_channels(CHANNELS)\n",
    "    mp3 = mp3.set_frame_rate(FRAME_RATE)\n",
    "    \n",
    "    rec = KaldiRecognizer(vosk_model, FRAME_RATE)\n",
    "    rec.SetWords(True)\n",
    "    rec.AcceptWaveform(mp3.raw_data)\n",
    "\n",
    "    result = rec.Result()   \n",
    "    return json.loads(result)['text']"
   ]
  },
  {
   "cell_type": "markdown",
   "metadata": {},
   "source": [
    "### Load All Models"
   ]
  },
  {
   "cell_type": "code",
   "execution_count": 7,
   "metadata": {},
   "outputs": [
    {
     "name": "stderr",
     "output_type": "stream",
     "text": [
      "config.json: 100%|██████████| 2.23k/2.23k [00:00<00:00, 557kB/s]\n",
      "c:\\Users\\mickl\\anaconda3\\envs\\stt_env\\lib\\site-packages\\huggingface_hub\\file_download.py:149: UserWarning: `huggingface_hub` cache-system uses symlinks by default to efficiently store duplicated files but your machine does not support them in C:\\Users\\mickl\\.cache\\huggingface\\hub\\models--Systran--faster-whisper-base.en. Caching files will still work but in a degraded version that might require more space on your disk. This warning can be disabled by setting the `HF_HUB_DISABLE_SYMLINKS_WARNING` environment variable. For more details, see https://huggingface.co/docs/huggingface_hub/how-to-cache#limitations.\n",
      "To support symlinks on Windows, you either need to activate Developer Mode or to run Python as an administrator. In order to see activate developer mode, see this article: https://docs.microsoft.com/en-us/windows/apps/get-started/enable-your-device-for-development\n",
      "  warnings.warn(message)\n",
      "\n",
      "tokenizer.json: 100%|██████████| 2.13M/2.13M [00:00<00:00, 5.55MB/s]\n",
      "\n",
      "vocabulary.txt: 100%|██████████| 422k/422k [00:00<00:00, 773kB/s]\n",
      "model.bin: 100%|██████████| 145M/145M [00:12<00:00, 11.3MB/s] \n",
      "vosk-model-en-us-0.22.zip: 100%|██████████| 1.78G/1.78G [04:31<00:00, 7.05MB/s]   \n"
     ]
    }
   ],
   "source": [
    "whisper_model = load_whisper_model('base.en')\n",
    "vosk_model = load_vosk_model('vosk-model-en-us-0.22')"
   ]
  },
  {
   "cell_type": "markdown",
   "metadata": {},
   "source": [
    "### Download Test Audios"
   ]
  },
  {
   "cell_type": "code",
   "execution_count": 5,
   "metadata": {},
   "outputs": [],
   "source": [
    "from pytube import YouTube \n",
    "import os "
   ]
  },
  {
   "cell_type": "code",
   "execution_count": 18,
   "metadata": {},
   "outputs": [],
   "source": [
    "urls = ['https://www.youtube.com/watch?v=HS7YZhsjRAo',\n",
    "        'https://www.youtube.com/watch?v=CWgAOFM3HN0',\n",
    "        'https://www.youtube.com/watch?v=IKmQW7JTb6s']"
   ]
  },
  {
   "cell_type": "code",
   "execution_count": 19,
   "metadata": {},
   "outputs": [
    {
     "name": "stdout",
     "output_type": "stream",
     "text": [
      "\"Bazinga Punk!\" - Sheldon Cooper - The Big Bang Theory has been successfully downloaded.\n",
      "Homer Simpson - I'm drawing a line down, a la \"I love Lucy\" has been successfully downloaded.\n",
      "Spider Man - With Great Power Comes Great Responsibility has been successfully downloaded.\n"
     ]
    }
   ],
   "source": [
    "# url input from user \n",
    "\n",
    "for url in urls:\n",
    "\n",
    "    yt = YouTube(url)\n",
    "    video = yt.streams.filter(only_audio=True).first() \n",
    "    out_file = video.download('audios/pre_recorded_vid_to_sound_clips') \n",
    "\n",
    "    base, ext = os.path.splitext(out_file) \n",
    "    new_file = base + '.mp3'\n",
    "    os.rename(out_file, new_file) \n",
    "    \n",
    "    print(yt.title + \" has been successfully downloaded.\")"
   ]
  },
  {
   "cell_type": "markdown",
   "metadata": {},
   "source": [
    "### Test Area"
   ]
  },
  {
   "cell_type": "markdown",
   "metadata": {},
   "source": [
    "#### Pre-Process"
   ]
  },
  {
   "cell_type": "code",
   "execution_count": null,
   "metadata": {},
   "outputs": [],
   "source": [
    "import moviepy.editor as ed\n",
    "\n",
    "path = \"C:\\\\Users\\\\mickl\\\\Videos\"\n",
    "destination = 'C:\\\\Users\\\\mickl\\\\OneDrive - Lexcode\\\\My Research\\\\STT Engines\\\\audios\\\\phonetic_lines'\n",
    "\n",
    "\n",
    "for file in os.listdir(path):\n",
    "\n",
    "    if os.path.isfile(file) and '.mp4' in file:\n",
    "        mp4_file = f'{path}\\{file}'\n",
    "        mp3_file = f'{destination}\\{file[:-4]}.mp3'\n",
    "\n",
    "        video = ed.VideoFileClip(mp4_file)\n",
    "        video.audio.write_audiofile(mp3_file)"
   ]
  },
  {
   "cell_type": "code",
   "execution_count": 61,
   "metadata": {},
   "outputs": [
    {
     "name": "stdout",
     "output_type": "stream",
     "text": [
      "sound file successfully converted wav\n",
      "sound file successfully converted wav\n",
      "sound file successfully converted wav\n",
      "sound file successfully converted wav\n",
      "sound file successfully converted wav\n"
     ]
    }
   ],
   "source": [
    "# parent_dir = \"audios/famous_monologues\"\n",
    "parent_dir = \"audios/phonetic_lines\"\n",
    "\n",
    "for file in os.listdir(parent_dir):\n",
    "    \n",
    "    if \".mp3\" in file:\n",
    "        AUDIO_FILE = f\"{parent_dir}/{file}\"\n",
    "        try:\n",
    "            to_wav(AUDIO_FILE)\n",
    "        except Exception as e:\n",
    "            print(e)"
   ]
  },
  {
   "cell_type": "markdown",
   "metadata": {},
   "source": [
    "#### Test"
   ]
  },
  {
   "cell_type": "code",
   "execution_count": 62,
   "metadata": {},
   "outputs": [],
   "source": [
    "speech_recog_results = []\n",
    "faster_whisper_results = []\n",
    "vosk_results = []"
   ]
  },
  {
   "cell_type": "code",
   "execution_count": 63,
   "metadata": {},
   "outputs": [
    {
     "name": "stdout",
     "output_type": "stream",
     "text": [
      "how much wood would a woodchuck chuck if a woodchuck could chuck wood\n",
      "peter piper picked a peck of pickled peppers\n",
      "sally sells seashells by the seashore\n",
      "she sells seashells on the seashore the shells that she sells are the seashells i'm sure\n",
      "the quick brown fox jumps over the lazy dog\n"
     ]
    }
   ],
   "source": [
    "# parent_dir = \"audios/famous_monologues/to_wavs\"\n",
    "parent_dir = \"audios/phonetic_lines/to_wavs\"\n",
    "\n",
    "for file in os.listdir(parent_dir):\n",
    "\n",
    "    if \".wav\" in file:\n",
    "        source_file = f'{parent_dir}/{file}'\n",
    "\n",
    "        try:\n",
    "            result = speech_recog_stt(source_file)\n",
    "            print(result)\n",
    "            speech_recog_results.append(result)\n",
    "        except Exception as e:\n",
    "            print(e)\n",
    "            speech_recog_results.append('\"Error Data\"')"
   ]
  },
  {
   "cell_type": "code",
   "execution_count": 64,
   "metadata": {},
   "outputs": [
    {
     "name": "stdout",
     "output_type": "stream",
     "text": [
      "How much wood would a wood chop if a wood chop could chop wood?\n",
      "Peter Piper Pig, a pack of pickled peppers.\n",
      "Sally sells seashells my DC short.\n",
      "She sells seashells on the seashore. The shells that she sells are the seashells, I'm sure.\n",
      "The weak brown fox jumps over the lazy dog.\n"
     ]
    }
   ],
   "source": [
    "# parent_dir = \"audios/famous_monologues\"\n",
    "parent_dir = \"audios/phonetic_lines\"\n",
    "\n",
    "for file in os.listdir(parent_dir):\n",
    "\n",
    "    if \".mp3\" in file:\n",
    "        source_file = f'{parent_dir}/{file}'\n",
    "\n",
    "        try:\n",
    "            result = faster_whisper_stt(whisper_model, source_file)\n",
    "            print(result)\n",
    "            faster_whisper_results.append(result)\n",
    "\n",
    "        except Exception as e:\n",
    "            print(e)\n",
    "            faster_whisper_results.append('\"Error Data\"')"
   ]
  },
  {
   "cell_type": "code",
   "execution_count": 65,
   "metadata": {},
   "outputs": [
    {
     "name": "stdout",
     "output_type": "stream",
     "text": [
      "how much would would a woodchuck chuck if a woodchuck could chuck wood\n",
      "peter piper picked a peck of pickled peppers\n",
      "sally sells seashells by the seashore\n",
      "she says seashells on the seashore the shells that she says are the seashells i'm sure\n",
      "the quick brown fox jumps over the lazy\n"
     ]
    }
   ],
   "source": [
    "# parent_dir = \"audios/famous_monologues\"\n",
    "parent_dir = \"audios/phonetic_lines\"\n",
    "\n",
    "for file in os.listdir(parent_dir):\n",
    "\n",
    "    if \".mp3\" in file:\n",
    "        source_file = f'{parent_dir}/{file}'\n",
    "\n",
    "        try:\n",
    "            result = vosk_stt(vosk_model, source_file)\n",
    "            print(result)\n",
    "            vosk_results.append(result)\n",
    "\n",
    "        except Exception as e:\n",
    "            print(e)\n",
    "            vosk_results.append('\"Error Data\"')"
   ]
  },
  {
   "cell_type": "markdown",
   "metadata": {},
   "source": [
    "### View Results"
   ]
  },
  {
   "cell_type": "code",
   "execution_count": 66,
   "metadata": {},
   "outputs": [],
   "source": [
    "import pandas as pd"
   ]
  },
  {
   "cell_type": "code",
   "execution_count": 67,
   "metadata": {},
   "outputs": [
    {
     "data": {
      "text/html": [
       "<div>\n",
       "<style scoped>\n",
       "    .dataframe tbody tr th:only-of-type {\n",
       "        vertical-align: middle;\n",
       "    }\n",
       "\n",
       "    .dataframe tbody tr th {\n",
       "        vertical-align: top;\n",
       "    }\n",
       "\n",
       "    .dataframe thead th {\n",
       "        text-align: right;\n",
       "    }\n",
       "</style>\n",
       "<table border=\"1\" class=\"dataframe\">\n",
       "  <thead>\n",
       "    <tr style=\"text-align: right;\">\n",
       "      <th></th>\n",
       "      <th>Speech Recognition</th>\n",
       "      <th>Faster-Whisper</th>\n",
       "      <th>Vosk</th>\n",
       "    </tr>\n",
       "  </thead>\n",
       "  <tbody>\n",
       "    <tr>\n",
       "      <th>0</th>\n",
       "      <td>how much wood would a woodchuck chuck if a woo...</td>\n",
       "      <td>How much wood would a wood chop if a wood chop...</td>\n",
       "      <td>how much would would a woodchuck chuck if a wo...</td>\n",
       "    </tr>\n",
       "    <tr>\n",
       "      <th>1</th>\n",
       "      <td>peter piper picked a peck of pickled peppers</td>\n",
       "      <td>Peter Piper Pig, a pack of pickled peppers.</td>\n",
       "      <td>peter piper picked a peck of pickled peppers</td>\n",
       "    </tr>\n",
       "    <tr>\n",
       "      <th>2</th>\n",
       "      <td>sally sells seashells by the seashore</td>\n",
       "      <td>Sally sells seashells my DC short.</td>\n",
       "      <td>sally sells seashells by the seashore</td>\n",
       "    </tr>\n",
       "    <tr>\n",
       "      <th>3</th>\n",
       "      <td>she sells seashells on the seashore the shells...</td>\n",
       "      <td>She sells seashells on the seashore. The shell...</td>\n",
       "      <td>she says seashells on the seashore the shells ...</td>\n",
       "    </tr>\n",
       "    <tr>\n",
       "      <th>4</th>\n",
       "      <td>the quick brown fox jumps over the lazy dog</td>\n",
       "      <td>The weak brown fox jumps over the lazy dog.</td>\n",
       "      <td>the quick brown fox jumps over the lazy</td>\n",
       "    </tr>\n",
       "  </tbody>\n",
       "</table>\n",
       "</div>"
      ],
      "text/plain": [
       "                                  Speech Recognition  \\\n",
       "0  how much wood would a woodchuck chuck if a woo...   \n",
       "1       peter piper picked a peck of pickled peppers   \n",
       "2              sally sells seashells by the seashore   \n",
       "3  she sells seashells on the seashore the shells...   \n",
       "4        the quick brown fox jumps over the lazy dog   \n",
       "\n",
       "                                      Faster-Whisper  \\\n",
       "0  How much wood would a wood chop if a wood chop...   \n",
       "1        Peter Piper Pig, a pack of pickled peppers.   \n",
       "2                 Sally sells seashells my DC short.   \n",
       "3  She sells seashells on the seashore. The shell...   \n",
       "4        The weak brown fox jumps over the lazy dog.   \n",
       "\n",
       "                                                Vosk  \n",
       "0  how much would would a woodchuck chuck if a wo...  \n",
       "1       peter piper picked a peck of pickled peppers  \n",
       "2              sally sells seashells by the seashore  \n",
       "3  she says seashells on the seashore the shells ...  \n",
       "4            the quick brown fox jumps over the lazy  "
      ]
     },
     "execution_count": 67,
     "metadata": {},
     "output_type": "execute_result"
    }
   ],
   "source": [
    "df = pd.DataFrame({'Speech Recognition': speech_recog_results, 'Faster-Whisper': faster_whisper_results, 'Vosk': vosk_results}, index=None)\n",
    "df"
   ]
  },
  {
   "cell_type": "code",
   "execution_count": 72,
   "metadata": {},
   "outputs": [
    {
     "name": "stdout",
     "output_type": "stream",
     "text": [
      " =Speech Recognition=\n",
      "how much wood would a woodchuck chuck if a woodchuck could chuck wood\n",
      "peter piper picked a peck of pickled peppers\n",
      "sally sells seashells by the seashore\n",
      "she sells seashells on the seashore the shells that she sells are the seashells i'm sure\n",
      "the quick brown fox jumps over the lazy dog\n",
      "\n",
      " =Faster-Whisper=\n",
      "How much wood would a wood chop if a wood chop could chop wood?\n",
      "Peter Piper Pig, a pack of pickled peppers.\n",
      "Sally sells seashells my DC short.\n",
      "She sells seashells on the seashore. The shells that she sells are the seashells, I'm sure.\n",
      "The weak brown fox jumps over the lazy dog.\n",
      "\n",
      " ==Vosk==\n",
      "how much would would a woodchuck chuck if a woodchuck could chuck wood\n",
      "peter piper picked a peck of pickled peppers\n",
      "sally sells seashells by the seashore\n",
      "she says seashells on the seashore the shells that she says are the seashells i'm sure\n",
      "the quick brown fox jumps over the lazy\n"
     ]
    }
   ],
   "source": [
    "print(' =Speech Recognition=')\n",
    "for line in df['Speech Recognition']:\n",
    "    print(line)\n",
    "\n",
    "print('\\n','=Faster-Whisper=')\n",
    "for line in df['Faster-Whisper']:\n",
    "    print(line)\n",
    "\n",
    "print('\\n','==Vosk==')\n",
    "for line in df['Vosk']:\n",
    "    print(line)"
   ]
  }
 ],
 "metadata": {
  "kernelspec": {
   "display_name": ".venv",
   "language": "python",
   "name": "python3"
  },
  "language_info": {
   "codemirror_mode": {
    "name": "ipython",
    "version": 3
   },
   "file_extension": ".py",
   "mimetype": "text/x-python",
   "name": "python",
   "nbconvert_exporter": "python",
   "pygments_lexer": "ipython3",
   "version": "3.10.9"
  }
 },
 "nbformat": 4,
 "nbformat_minor": 2
}
